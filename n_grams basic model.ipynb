{
 "cells": [
  {
   "cell_type": "markdown",
   "id": "5d0db116",
   "metadata": {},
   "source": [
    "# N-Gram Language Modelling"
   ]
  },
  {
   "cell_type": "markdown",
   "id": "e13bc534",
   "metadata": {},
   "source": [
    "## Tri-Gram Model"
   ]
  },
  {
   "cell_type": "code",
   "execution_count": 1,
   "id": "92404b6b",
   "metadata": {},
   "outputs": [],
   "source": [
    "from nltk.corpus import brown\n",
    "from nltk.tokenize import word_tokenize"
   ]
  },
  {
   "cell_type": "code",
   "execution_count": 2,
   "id": "e78a2f53",
   "metadata": {},
   "outputs": [],
   "source": [
    "corpus = brown.words()"
   ]
  },
  {
   "cell_type": "code",
   "execution_count": 3,
   "id": "c5538c8f",
   "metadata": {},
   "outputs": [
    {
     "name": "stdout",
     "output_type": "stream",
     "text": [
      "Number of words in the corpus: 1161192\n",
      "Vocab of the corpus : 49815\n"
     ]
    }
   ],
   "source": [
    "print(f\"Number of words in the corpus: {len(corpus)}\")\n",
    "lowercase = [c.lower() for c in corpus]\n",
    "vocab = set(lowercase)\n",
    "print(f\"Vocab of the corpus : {len(vocab)}\")"
   ]
  },
  {
   "cell_type": "code",
   "execution_count": 4,
   "id": "d042b0a2",
   "metadata": {},
   "outputs": [
    {
     "name": "stdout",
     "output_type": "stream",
     "text": [
      "Snippet of the corpus: ['in', 'the', 'hard-fought', 'primary', 'which', 'was', 'won', 'by', 'mayor-nominate', 'ivan', 'allen', 'jr.', '.', '``', 'only', 'a', 'relative']\n"
     ]
    }
   ],
   "source": [
    "print(f\"Snippet of the corpus: {lowercase[90:107]}\")"
   ]
  },
  {
   "cell_type": "code",
   "execution_count": 5,
   "id": "b8d3443f",
   "metadata": {},
   "outputs": [],
   "source": [
    "bigram_counts = {}\n",
    "trigram_counts = {}\n",
    "\n",
    "for i in range(len(lowercase)-2):\n",
    "    bigram = (lowercase[i], lowercase[i+1])\n",
    "    trigram = (lowercase[i], lowercase[i+1], lowercase[i+2])\n",
    "    \n",
    "    if bigram in bigram_counts.keys():\n",
    "        bigram_counts[bigram]+=1\n",
    "    else:\n",
    "        bigram_counts[bigram]=1\n",
    "        \n",
    "    if trigram in trigram_counts.keys():\n",
    "        trigram_counts[trigram]+=1\n",
    "    else:\n",
    "        trigram_counts[trigram]=1  "
   ]
  },
  {
   "cell_type": "code",
   "execution_count": 6,
   "id": "29590d55",
   "metadata": {},
   "outputs": [
    {
     "name": "stdout",
     "output_type": "stream",
     "text": [
      "Bigram count for (was, won) is: 2\n",
      "Bigram count for (which, was) is: 155\n"
     ]
    }
   ],
   "source": [
    "print(f\"Bigram count for (was, won) is: {bigram_counts[('was', 'won')]}\")\n",
    "print(f\"Bigram count for (which, was) is: {bigram_counts[('which', 'was')]}\")"
   ]
  },
  {
   "cell_type": "code",
   "execution_count": 9,
   "id": "5bfcacc0",
   "metadata": {},
   "outputs": [],
   "source": [
    "def nextgram(input_, trigram_counts_dict, bigram_counts_dict, corpus_vocab):\n",
    "    input_tokens = word_tokenize(input_.lower())\n",
    "    input_bigram = input_tokens[-2:]\n",
    "    N = len(corpus_vocab)\n",
    "    \n",
    "    all_probs = {}\n",
    "    \n",
    "    for vocab_word in corpus_vocab: \n",
    "        test_bigram = (input_bigram[0], input_bigram[1])\n",
    "        test_trigram = (input_bigram[0], input_bigram[1], vocab_word)\n",
    "        \n",
    "        bigram_count = bigram_counts_dict.get(test_bigram,0)\n",
    "        trigram_count = trigram_counts_dict.get(test_trigram,0)\n",
    "        \n",
    "        prob = (trigram_count+1)/(bigram_count+N)\n",
    "        \n",
    "        all_probs[vocab_word] = prob\n",
    "        \n",
    "    top_words = sorted(all_probs.items(), key= lambda x:x[1], reverse = True)[:5]\n",
    "        \n",
    "    return top_words"
   ]
  },
  {
   "cell_type": "code",
   "execution_count": 11,
   "id": "ddd23f1c",
   "metadata": {},
   "outputs": [
    {
     "data": {
      "text/plain": [
       "[('dominated', 4.013002126891127e-05),\n",
       " ('the', 4.013002126891127e-05),\n",
       " ('still', 4.013002126891127e-05),\n",
       " ('flowing', 4.013002126891127e-05),\n",
       " ('played', 4.013002126891127e-05)]"
      ]
     },
     "execution_count": 11,
     "metadata": {},
     "output_type": "execute_result"
    }
   ],
   "source": [
    "nextgram(\"the world is\", trigram_counts, bigram_counts, vocab)"
   ]
  },
  {
   "cell_type": "code",
   "execution_count": 15,
   "id": "e11a162e",
   "metadata": {},
   "outputs": [
    {
     "data": {
      "text/plain": [
       "[('by', 6.022040668847984e-05),\n",
       " ('contrast', 2.0073468896159946e-05),\n",
       " ('highwayman', 2.0073468896159946e-05),\n",
       " ('volatilization', 2.0073468896159946e-05),\n",
       " ('hamiltonians', 2.0073468896159946e-05)]"
      ]
     },
     "execution_count": 15,
     "metadata": {},
     "output_type": "execute_result"
    }
   ],
   "source": [
    "nextgram(\"the world is dominated\", trigram_counts, bigram_counts, vocab)"
   ]
  },
  {
   "cell_type": "code",
   "execution_count": 16,
   "id": "09f19871",
   "metadata": {},
   "outputs": [
    {
     "data": {
      "text/plain": [
       "[('the', 0.0001003492152691366),\n",
       " ('either', 4.013968610765464e-05),\n",
       " ('two', 4.013968610765464e-05),\n",
       " ('a', 4.013968610765464e-05),\n",
       " ('money', 4.013968610765464e-05)]"
      ]
     },
     "execution_count": 16,
     "metadata": {},
     "output_type": "execute_result"
    }
   ],
   "source": [
    "nextgram(\"the world is dominated by\", trigram_counts, bigram_counts, vocab)"
   ]
  },
  {
   "cell_type": "code",
   "execution_count": 17,
   "id": "7dafe6cd",
   "metadata": {},
   "outputs": [
    {
     "data": {
      "text/plain": [
       "[('time', 0.0006841014815683515),\n",
       " ('united', 0.0002736405926273406),\n",
       " ('fact', 0.0002736405926273406),\n",
       " ('way', 0.000254094836011102),\n",
       " ('secretary', 0.00023454907939486337)]"
      ]
     },
     "execution_count": 17,
     "metadata": {},
     "output_type": "execute_result"
    }
   ],
   "source": [
    "nextgram(\"the world is dominated by the\", trigram_counts, bigram_counts, vocab)"
   ]
  },
  {
   "cell_type": "code",
   "execution_count": 18,
   "id": "94981708",
   "metadata": {},
   "outputs": [
    {
     "data": {
      "text/plain": [
       "[('of', 0.0009187872008948188),\n",
       " ('the', 0.00041944633084328687),\n",
       " (',', 0.00041944633084328687),\n",
       " ('.', 0.00033955179163504176),\n",
       " ('and', 0.00023968361762473535)]"
      ]
     },
     "execution_count": 18,
     "metadata": {},
     "output_type": "execute_result"
    }
   ],
   "source": [
    "nextgram(\"the world is dominated by the time\", trigram_counts, bigram_counts, vocab)"
   ]
  },
  {
   "cell_type": "code",
   "execution_count": 19,
   "id": "e5198b14",
   "metadata": {},
   "outputs": [
    {
     "data": {
      "text/plain": [
       "[('the', 0.0002806229830223095),\n",
       " ('his', 0.00012026699272384694),\n",
       " ('her', 8.017799514923129e-05),\n",
       " ('year', 8.017799514923129e-05),\n",
       " ('flight', 6.013349636192347e-05)]"
      ]
     },
     "execution_count": 19,
     "metadata": {},
     "output_type": "execute_result"
    }
   ],
   "source": [
    "nextgram(\"the world is dominated by the time of\", trigram_counts, bigram_counts, vocab)"
   ]
  },
  {
   "cell_type": "code",
   "execution_count": 20,
   "id": "132b5e38",
   "metadata": {},
   "outputs": [
    {
     "data": {
      "text/plain": [
       "[('united', 0.002183699522945643),\n",
       " ('new', 0.0018141503729086877),\n",
       " ('most', 0.0013942081569576026),\n",
       " ('world', 0.0012094335819391251),\n",
       " ('``', 0.0011758382046630383)]"
      ]
     },
     "execution_count": 20,
     "metadata": {},
     "output_type": "execute_result"
    }
   ],
   "source": [
    "nextgram(\"the world is dominated by the time of the\", trigram_counts, bigram_counts, vocab)"
   ]
  },
  {
   "cell_type": "code",
   "execution_count": 48,
   "id": "97babd8d",
   "metadata": {},
   "outputs": [],
   "source": [
    "def nextNgrams(input_, Ngrams, trigram_counts_dict, bigram_counts_dict, corpus_vocab):\n",
    "        \n",
    "    for _ in range(Ngrams):\n",
    "        input_tokens = word_tokenize(input_.lower())\n",
    "        input_bigram = input_tokens[-2:]\n",
    "        N = len(corpus_vocab)\n",
    "\n",
    "        all_probs = {}\n",
    "\n",
    "        for vocab_word in corpus_vocab: \n",
    "            test_bigram = (input_bigram[0], input_bigram[1])\n",
    "            test_trigram = (input_bigram[0], input_bigram[1], vocab_word)\n",
    "            bigram_count = bigram_counts_dict.get(test_bigram,0)\n",
    "            trigram_count = trigram_counts_dict.get(test_trigram,0)\n",
    "\n",
    "            prob = (trigram_count+1)/(bigram_count+N)\n",
    "\n",
    "            all_probs[vocab_word] = prob\n",
    "\n",
    "        top_word = sorted(all_probs.items(), key= lambda x:x[1], reverse = True)[0]\n",
    "        input_ = input_+ \" \"+ top_word[0]\n",
    "    \n",
    "    \n",
    "        \n",
    "    return input_"
   ]
  },
  {
   "cell_type": "code",
   "execution_count": 51,
   "id": "31e14299",
   "metadata": {},
   "outputs": [
    {
     "data": {
      "text/plain": [
       "'the world is dominated by the time of the united states , and'"
      ]
     },
     "execution_count": 51,
     "metadata": {},
     "output_type": "execute_result"
    }
   ],
   "source": [
    "nextNgrams(\"the world is\", 10,trigram_counts, bigram_counts, vocab)"
   ]
  },
  {
   "cell_type": "markdown",
   "id": "b873cc0d",
   "metadata": {},
   "source": [
    "#### Inference: \n",
    "Longer sentences fail to deliver semantic correctness."
   ]
  },
  {
   "cell_type": "markdown",
   "id": "650b7eed",
   "metadata": {},
   "source": [
    "## Four Gram Model "
   ]
  },
  {
   "cell_type": "code",
   "execution_count": null,
   "id": "feceb2da",
   "metadata": {},
   "outputs": [],
   "source": []
  }
 ],
 "metadata": {
  "kernelspec": {
   "display_name": "Python 3 (ipykernel)",
   "language": "python",
   "name": "python3"
  },
  "language_info": {
   "codemirror_mode": {
    "name": "ipython",
    "version": 3
   },
   "file_extension": ".py",
   "mimetype": "text/x-python",
   "name": "python",
   "nbconvert_exporter": "python",
   "pygments_lexer": "ipython3",
   "version": "3.11.5"
  }
 },
 "nbformat": 4,
 "nbformat_minor": 5
}
